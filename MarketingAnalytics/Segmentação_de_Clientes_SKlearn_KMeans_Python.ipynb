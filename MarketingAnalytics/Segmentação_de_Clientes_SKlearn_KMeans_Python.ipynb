{
 "cells": [
  {
   "cell_type": "markdown",
   "id": "8a5d1489",
   "metadata": {},
   "source": [
    "# Projeto - Maketing Analytics"
   ]
  },
  {
   "cell_type": "markdown",
   "id": "d960e73c",
   "metadata": {},
   "source": [
    "## <font color='blue'>Segmentação de clientes de food delivery</font>"
   ]
  },
  {
   "cell_type": "markdown",
   "id": "2c0a0691",
   "metadata": {},
   "source": [
    "## Carregando pacotes"
   ]
  },
  {
   "cell_type": "code",
   "execution_count": 1,
   "id": "e093a9fa",
   "metadata": {},
   "outputs": [],
   "source": [
    "# Imports\n",
    "# Manipulação e visualização de dados\n",
    "import time\n",
    "import sklearn\n",
    "import datetime\n",
    "import numpy as np\n",
    "import pandas as pd\n",
    "import seaborn as sns \n",
    "import matplotlib as m\n",
    "import matplotlib.pyplot as plt\n",
    "\n",
    "# Machine Learning\n",
    "from sklearn.cluster import KMeans\n",
    "from sklearn import metrics\n",
    "from sklearn.preprocessing import MinMaxScaler\n",
    "\n",
    "# Formatação dos gráficos\n",
    "plt.style.use('fivethirtyeight')\n",
    "plt.figure(1 , figsize = (15 , 6))\n",
    "%matplotlib inline"
   ]
  },
  {
   "cell_type": "code",
   "execution_count": 2,
   "id": "24590fc0",
   "metadata": {},
   "outputs": [
    {
     "name": "stdout",
     "output_type": "stream",
     "text": [
      "Author: Henrique Macedo Bardella\n",
      "\n",
      "sklearn   : 0.0\n",
      "numpy     : 1.21.6\n",
      "seaborn   : 0.11.2\n",
      "matplotlib: 3.5.1\n",
      "pandas    : 1.4.2\n",
      "\n"
     ]
    }
   ],
   "source": [
    "# Versões dos pacotes usados neste jupyter notebook\n",
    "%reload_ext watermark\n",
    "%watermark -a \"Henrique Macedo Bardella\" --iversions"
   ]
  },
  {
   "cell_type": "markdown",
   "id": "d445a074",
   "metadata": {},
   "source": [
    "## Carregando e compreendendo os datasets"
   ]
  },
  {
   "cell_type": "code",
   "execution_count": 3,
   "id": "bf2d4dda",
   "metadata": {},
   "outputs": [],
   "source": [
    "# Dataset\n",
    "df_food_delivery = pd.read_csv(\"dados/dataset.csv\", encoding = 'utf-8')"
   ]
  },
  {
   "cell_type": "code",
   "execution_count": 4,
   "id": "89ca7a2b",
   "metadata": {},
   "outputs": [
    {
     "data": {
      "text/plain": [
       "(260645, 7)"
      ]
     },
     "execution_count": 4,
     "metadata": {},
     "output_type": "execute_result"
    }
   ],
   "source": [
    "# Shape\n",
    "df_food_delivery.shape"
   ]
  },
  {
   "cell_type": "code",
   "execution_count": 5,
   "id": "376f6e3c",
   "metadata": {},
   "outputs": [
    {
     "data": {
      "text/html": [
       "<div>\n",
       "<style scoped>\n",
       "    .dataframe tbody tr th:only-of-type {\n",
       "        vertical-align: middle;\n",
       "    }\n",
       "\n",
       "    .dataframe tbody tr th {\n",
       "        vertical-align: top;\n",
       "    }\n",
       "\n",
       "    .dataframe thead th {\n",
       "        text-align: right;\n",
       "    }\n",
       "</style>\n",
       "<table border=\"1\" class=\"dataframe\">\n",
       "  <thead>\n",
       "    <tr style=\"text-align: right;\">\n",
       "      <th></th>\n",
       "      <th>id_transacao</th>\n",
       "      <th>horario_pedido</th>\n",
       "      <th>localidade</th>\n",
       "      <th>nome_item</th>\n",
       "      <th>quantidade_item</th>\n",
       "      <th>latitude</th>\n",
       "      <th>longitude</th>\n",
       "    </tr>\n",
       "  </thead>\n",
       "  <tbody>\n",
       "    <tr>\n",
       "      <th>0</th>\n",
       "      <td>0x7901ee</td>\n",
       "      <td>2019-01-16 18:33:00</td>\n",
       "      <td>7</td>\n",
       "      <td>bebida</td>\n",
       "      <td>2</td>\n",
       "      <td>41.794132</td>\n",
       "      <td>-88.010140</td>\n",
       "    </tr>\n",
       "    <tr>\n",
       "      <th>1</th>\n",
       "      <td>0x7901ee</td>\n",
       "      <td>2019-01-16 18:33:00</td>\n",
       "      <td>7</td>\n",
       "      <td>pizza</td>\n",
       "      <td>2</td>\n",
       "      <td>41.794132</td>\n",
       "      <td>-88.010140</td>\n",
       "    </tr>\n",
       "    <tr>\n",
       "      <th>2</th>\n",
       "      <td>0x7901ee</td>\n",
       "      <td>2019-01-16 18:33:00</td>\n",
       "      <td>7</td>\n",
       "      <td>sobremesa</td>\n",
       "      <td>2</td>\n",
       "      <td>41.794132</td>\n",
       "      <td>-88.010140</td>\n",
       "    </tr>\n",
       "    <tr>\n",
       "      <th>3</th>\n",
       "      <td>0x12b47f</td>\n",
       "      <td>2019-09-04 12:36:00</td>\n",
       "      <td>3</td>\n",
       "      <td>salada</td>\n",
       "      <td>1</td>\n",
       "      <td>41.884490</td>\n",
       "      <td>-87.627059</td>\n",
       "    </tr>\n",
       "    <tr>\n",
       "      <th>4</th>\n",
       "      <td>0x12b47f</td>\n",
       "      <td>2019-09-04 12:36:00</td>\n",
       "      <td>3</td>\n",
       "      <td>sobremesa</td>\n",
       "      <td>1</td>\n",
       "      <td>41.884490</td>\n",
       "      <td>-87.627059</td>\n",
       "    </tr>\n",
       "  </tbody>\n",
       "</table>\n",
       "</div>"
      ],
      "text/plain": [
       "  id_transacao       horario_pedido  localidade  nome_item  quantidade_item  \\\n",
       "0     0x7901ee  2019-01-16 18:33:00           7     bebida                2   \n",
       "1     0x7901ee  2019-01-16 18:33:00           7      pizza                2   \n",
       "2     0x7901ee  2019-01-16 18:33:00           7  sobremesa                2   \n",
       "3     0x12b47f  2019-09-04 12:36:00           3     salada                1   \n",
       "4     0x12b47f  2019-09-04 12:36:00           3  sobremesa                1   \n",
       "\n",
       "    latitude  longitude  \n",
       "0  41.794132 -88.010140  \n",
       "1  41.794132 -88.010140  \n",
       "2  41.794132 -88.010140  \n",
       "3  41.884490 -87.627059  \n",
       "4  41.884490 -87.627059  "
      ]
     },
     "execution_count": 5,
     "metadata": {},
     "output_type": "execute_result"
    }
   ],
   "source": [
    "df_food_delivery.head()"
   ]
  },
  {
   "cell_type": "markdown",
   "id": "643d2fff",
   "metadata": {},
   "source": [
    "## Análise exploratória"
   ]
  },
  {
   "cell_type": "code",
   "execution_count": 6,
   "id": "181fb938",
   "metadata": {},
   "outputs": [
    {
     "data": {
      "text/plain": [
       "id_transacao       100000\n",
       "horario_pedido      76799\n",
       "localidade              9\n",
       "nome_item               4\n",
       "quantidade_item         5\n",
       "latitude                9\n",
       "longitude               9\n",
       "dtype: int64"
      ]
     },
     "execution_count": 6,
     "metadata": {},
     "output_type": "execute_result"
    }
   ],
   "source": [
    "# Verifica o total de valores unicos por coluna\n",
    "df_food_delivery.nunique()"
   ]
  },
  {
   "cell_type": "code",
   "execution_count": 7,
   "id": "06cbc697",
   "metadata": {},
   "outputs": [
    {
     "data": {
      "text/plain": [
       "id_transacao        object\n",
       "horario_pedido      object\n",
       "localidade           int64\n",
       "nome_item           object\n",
       "quantidade_item      int64\n",
       "latitude           float64\n",
       "longitude          float64\n",
       "dtype: object"
      ]
     },
     "execution_count": 7,
     "metadata": {},
     "output_type": "execute_result"
    }
   ],
   "source": [
    "# Tipos de dados\n",
    "df_food_delivery.dtypes"
   ]
  },
  {
   "cell_type": "code",
   "execution_count": 8,
   "id": "855577dd",
   "metadata": {},
   "outputs": [
    {
     "data": {
      "text/html": [
       "<div>\n",
       "<style scoped>\n",
       "    .dataframe tbody tr th:only-of-type {\n",
       "        vertical-align: middle;\n",
       "    }\n",
       "\n",
       "    .dataframe tbody tr th {\n",
       "        vertical-align: top;\n",
       "    }\n",
       "\n",
       "    .dataframe thead th {\n",
       "        text-align: right;\n",
       "    }\n",
       "</style>\n",
       "<table border=\"1\" class=\"dataframe\">\n",
       "  <thead>\n",
       "    <tr style=\"text-align: right;\">\n",
       "      <th></th>\n",
       "      <th>localidade</th>\n",
       "      <th>quantidade_item</th>\n",
       "      <th>latitude</th>\n",
       "      <th>longitude</th>\n",
       "    </tr>\n",
       "  </thead>\n",
       "  <tbody>\n",
       "    <tr>\n",
       "      <th>count</th>\n",
       "      <td>260645.000000</td>\n",
       "      <td>260645.000000</td>\n",
       "      <td>260645.000000</td>\n",
       "      <td>260645.000000</td>\n",
       "    </tr>\n",
       "    <tr>\n",
       "      <th>mean</th>\n",
       "      <td>5.134904</td>\n",
       "      <td>2.447010</td>\n",
       "      <td>41.836095</td>\n",
       "      <td>-87.733930</td>\n",
       "    </tr>\n",
       "    <tr>\n",
       "      <th>std</th>\n",
       "      <td>2.551846</td>\n",
       "      <td>1.330863</td>\n",
       "      <td>0.144459</td>\n",
       "      <td>0.136369</td>\n",
       "    </tr>\n",
       "    <tr>\n",
       "      <th>min</th>\n",
       "      <td>1.000000</td>\n",
       "      <td>1.000000</td>\n",
       "      <td>41.524598</td>\n",
       "      <td>-88.010140</td>\n",
       "    </tr>\n",
       "    <tr>\n",
       "      <th>25%</th>\n",
       "      <td>3.000000</td>\n",
       "      <td>1.000000</td>\n",
       "      <td>41.784576</td>\n",
       "      <td>-87.849468</td>\n",
       "    </tr>\n",
       "    <tr>\n",
       "      <th>50%</th>\n",
       "      <td>5.000000</td>\n",
       "      <td>2.000000</td>\n",
       "      <td>41.881818</td>\n",
       "      <td>-87.677606</td>\n",
       "    </tr>\n",
       "    <tr>\n",
       "      <th>75%</th>\n",
       "      <td>7.000000</td>\n",
       "      <td>4.000000</td>\n",
       "      <td>41.889047</td>\n",
       "      <td>-87.627059</td>\n",
       "    </tr>\n",
       "    <tr>\n",
       "      <th>max</th>\n",
       "      <td>9.000000</td>\n",
       "      <td>5.000000</td>\n",
       "      <td>42.049306</td>\n",
       "      <td>-87.607565</td>\n",
       "    </tr>\n",
       "  </tbody>\n",
       "</table>\n",
       "</div>"
      ],
      "text/plain": [
       "          localidade  quantidade_item       latitude      longitude\n",
       "count  260645.000000    260645.000000  260645.000000  260645.000000\n",
       "mean        5.134904         2.447010      41.836095     -87.733930\n",
       "std         2.551846         1.330863       0.144459       0.136369\n",
       "min         1.000000         1.000000      41.524598     -88.010140\n",
       "25%         3.000000         1.000000      41.784576     -87.849468\n",
       "50%         5.000000         2.000000      41.881818     -87.677606\n",
       "75%         7.000000         4.000000      41.889047     -87.627059\n",
       "max         9.000000         5.000000      42.049306     -87.607565"
      ]
     },
     "execution_count": 8,
     "metadata": {},
     "output_type": "execute_result"
    }
   ],
   "source": [
    "# Resumo das colunas numéricas\n",
    "df_food_delivery.describe()"
   ]
  },
  {
   "cell_type": "markdown",
   "id": "eb63139f",
   "metadata": {},
   "source": [
    "### Criando uma tabela que fornecerá o número de vezes cada item foi solicitado em cada pedido"
   ]
  },
  {
   "cell_type": "code",
   "execution_count": 9,
   "id": "8a4ebb34",
   "metadata": {},
   "outputs": [
    {
     "data": {
      "text/plain": [
       "pandas.core.frame.DataFrame"
      ]
     },
     "execution_count": 9,
     "metadata": {},
     "output_type": "execute_result"
    }
   ],
   "source": [
    "type(df_food_delivery)"
   ]
  },
  {
   "cell_type": "code",
   "execution_count": 10,
   "id": "020c3c35",
   "metadata": {},
   "outputs": [],
   "source": [
    "# Cria uma tabela pivot com id_transacao, nome_item e quantidade_item\n",
    "df_pivot = df_food_delivery.pivot_table(index = ['id_transacao'], columns = ['nome_item'], values = 'quantidade_item')"
   ]
  },
  {
   "cell_type": "code",
   "execution_count": 11,
   "id": "4c9da8e6",
   "metadata": {},
   "outputs": [
    {
     "data": {
      "text/html": [
       "<div>\n",
       "<style scoped>\n",
       "    .dataframe tbody tr th:only-of-type {\n",
       "        vertical-align: middle;\n",
       "    }\n",
       "\n",
       "    .dataframe tbody tr th {\n",
       "        vertical-align: top;\n",
       "    }\n",
       "\n",
       "    .dataframe thead th {\n",
       "        text-align: right;\n",
       "    }\n",
       "</style>\n",
       "<table border=\"1\" class=\"dataframe\">\n",
       "  <thead>\n",
       "    <tr style=\"text-align: right;\">\n",
       "      <th>nome_item</th>\n",
       "      <th>bebida</th>\n",
       "      <th>pizza</th>\n",
       "      <th>salada</th>\n",
       "      <th>sobremesa</th>\n",
       "    </tr>\n",
       "    <tr>\n",
       "      <th>id_transacao</th>\n",
       "      <th></th>\n",
       "      <th></th>\n",
       "      <th></th>\n",
       "      <th></th>\n",
       "    </tr>\n",
       "  </thead>\n",
       "  <tbody>\n",
       "    <tr>\n",
       "      <th>0x10000a</th>\n",
       "      <td>NaN</td>\n",
       "      <td>1.0</td>\n",
       "      <td>NaN</td>\n",
       "      <td>1.0</td>\n",
       "    </tr>\n",
       "    <tr>\n",
       "      <th>0x100058</th>\n",
       "      <td>NaN</td>\n",
       "      <td>2.0</td>\n",
       "      <td>NaN</td>\n",
       "      <td>2.0</td>\n",
       "    </tr>\n",
       "    <tr>\n",
       "      <th>0x1000c8</th>\n",
       "      <td>4.0</td>\n",
       "      <td>4.0</td>\n",
       "      <td>1.0</td>\n",
       "      <td>5.0</td>\n",
       "    </tr>\n",
       "    <tr>\n",
       "      <th>0x10014c</th>\n",
       "      <td>NaN</td>\n",
       "      <td>1.0</td>\n",
       "      <td>NaN</td>\n",
       "      <td>1.0</td>\n",
       "    </tr>\n",
       "    <tr>\n",
       "      <th>0x1001d8</th>\n",
       "      <td>3.0</td>\n",
       "      <td>3.0</td>\n",
       "      <td>NaN</td>\n",
       "      <td>3.0</td>\n",
       "    </tr>\n",
       "    <tr>\n",
       "      <th>...</th>\n",
       "      <td>...</td>\n",
       "      <td>...</td>\n",
       "      <td>...</td>\n",
       "      <td>...</td>\n",
       "    </tr>\n",
       "    <tr>\n",
       "      <th>0xffe96</th>\n",
       "      <td>4.0</td>\n",
       "      <td>4.0</td>\n",
       "      <td>NaN</td>\n",
       "      <td>4.0</td>\n",
       "    </tr>\n",
       "    <tr>\n",
       "      <th>0xffeed</th>\n",
       "      <td>NaN</td>\n",
       "      <td>1.0</td>\n",
       "      <td>NaN</td>\n",
       "      <td>1.0</td>\n",
       "    </tr>\n",
       "    <tr>\n",
       "      <th>0xfff07</th>\n",
       "      <td>1.0</td>\n",
       "      <td>1.0</td>\n",
       "      <td>NaN</td>\n",
       "      <td>1.0</td>\n",
       "    </tr>\n",
       "    <tr>\n",
       "      <th>0xfff4d</th>\n",
       "      <td>NaN</td>\n",
       "      <td>2.0</td>\n",
       "      <td>NaN</td>\n",
       "      <td>2.0</td>\n",
       "    </tr>\n",
       "    <tr>\n",
       "      <th>0xfffb8</th>\n",
       "      <td>NaN</td>\n",
       "      <td>1.0</td>\n",
       "      <td>NaN</td>\n",
       "      <td>1.0</td>\n",
       "    </tr>\n",
       "  </tbody>\n",
       "</table>\n",
       "<p>100000 rows × 4 columns</p>\n",
       "</div>"
      ],
      "text/plain": [
       "nome_item     bebida  pizza  salada  sobremesa\n",
       "id_transacao                                  \n",
       "0x10000a         NaN    1.0     NaN        1.0\n",
       "0x100058         NaN    2.0     NaN        2.0\n",
       "0x1000c8         4.0    4.0     1.0        5.0\n",
       "0x10014c         NaN    1.0     NaN        1.0\n",
       "0x1001d8         3.0    3.0     NaN        3.0\n",
       "...              ...    ...     ...        ...\n",
       "0xffe96          4.0    4.0     NaN        4.0\n",
       "0xffeed          NaN    1.0     NaN        1.0\n",
       "0xfff07          1.0    1.0     NaN        1.0\n",
       "0xfff4d          NaN    2.0     NaN        2.0\n",
       "0xfffb8          NaN    1.0     NaN        1.0\n",
       "\n",
       "[100000 rows x 4 columns]"
      ]
     },
     "execution_count": 11,
     "metadata": {},
     "output_type": "execute_result"
    }
   ],
   "source": [
    "df_pivot"
   ]
  },
  {
   "cell_type": "code",
   "execution_count": 12,
   "id": "e6bfb64d",
   "metadata": {},
   "outputs": [],
   "source": [
    "# Substitui valores NA gerados, por 0 e transformados em índice na coluna\n",
    "df_pivot = df_pivot.fillna(0).reset_index()"
   ]
  },
  {
   "cell_type": "code",
   "execution_count": 13,
   "id": "aa10e001",
   "metadata": {},
   "outputs": [
    {
     "data": {
      "text/plain": [
       "pandas.core.frame.DataFrame"
      ]
     },
     "execution_count": 13,
     "metadata": {},
     "output_type": "execute_result"
    }
   ],
   "source": [
    "type(df_pivot)"
   ]
  },
  {
   "cell_type": "code",
   "execution_count": 14,
   "id": "de70ac88",
   "metadata": {},
   "outputs": [
    {
     "data": {
      "text/plain": [
       "nome_item\n",
       "id_transacao     object\n",
       "bebida          float64\n",
       "pizza           float64\n",
       "salada          float64\n",
       "sobremesa       float64\n",
       "dtype: object"
      ]
     },
     "execution_count": 14,
     "metadata": {},
     "output_type": "execute_result"
    }
   ],
   "source": [
    "df_pivot.dtypes"
   ]
  },
  {
   "cell_type": "code",
   "execution_count": 15,
   "id": "2ec7b5b6",
   "metadata": {},
   "outputs": [
    {
     "data": {
      "text/plain": [
       "Index(['id_transacao', 'bebida', 'pizza', 'salada', 'sobremesa'], dtype='object', name='nome_item')"
      ]
     },
     "execution_count": 15,
     "metadata": {},
     "output_type": "execute_result"
    }
   ],
   "source": [
    "# Nomes das colunas\n",
    "df_pivot.columns"
   ]
  },
  {
   "cell_type": "code",
   "execution_count": 16,
   "id": "ce3b6c79",
   "metadata": {},
   "outputs": [
    {
     "data": {
      "text/html": [
       "<div>\n",
       "<style scoped>\n",
       "    .dataframe tbody tr th:only-of-type {\n",
       "        vertical-align: middle;\n",
       "    }\n",
       "\n",
       "    .dataframe tbody tr th {\n",
       "        vertical-align: top;\n",
       "    }\n",
       "\n",
       "    .dataframe thead th {\n",
       "        text-align: right;\n",
       "    }\n",
       "</style>\n",
       "<table border=\"1\" class=\"dataframe\">\n",
       "  <thead>\n",
       "    <tr style=\"text-align: right;\">\n",
       "      <th>nome_item</th>\n",
       "      <th>id_transacao</th>\n",
       "      <th>bebida</th>\n",
       "      <th>pizza</th>\n",
       "      <th>salada</th>\n",
       "      <th>sobremesa</th>\n",
       "    </tr>\n",
       "  </thead>\n",
       "  <tbody>\n",
       "    <tr>\n",
       "      <th>0</th>\n",
       "      <td>0x10000a</td>\n",
       "      <td>0.0</td>\n",
       "      <td>1.0</td>\n",
       "      <td>0.0</td>\n",
       "      <td>1.0</td>\n",
       "    </tr>\n",
       "    <tr>\n",
       "      <th>1</th>\n",
       "      <td>0x100058</td>\n",
       "      <td>0.0</td>\n",
       "      <td>2.0</td>\n",
       "      <td>0.0</td>\n",
       "      <td>2.0</td>\n",
       "    </tr>\n",
       "    <tr>\n",
       "      <th>2</th>\n",
       "      <td>0x1000c8</td>\n",
       "      <td>4.0</td>\n",
       "      <td>4.0</td>\n",
       "      <td>1.0</td>\n",
       "      <td>5.0</td>\n",
       "    </tr>\n",
       "    <tr>\n",
       "      <th>3</th>\n",
       "      <td>0x10014c</td>\n",
       "      <td>0.0</td>\n",
       "      <td>1.0</td>\n",
       "      <td>0.0</td>\n",
       "      <td>1.0</td>\n",
       "    </tr>\n",
       "    <tr>\n",
       "      <th>4</th>\n",
       "      <td>0x1001d8</td>\n",
       "      <td>3.0</td>\n",
       "      <td>3.0</td>\n",
       "      <td>0.0</td>\n",
       "      <td>3.0</td>\n",
       "    </tr>\n",
       "  </tbody>\n",
       "</table>\n",
       "</div>"
      ],
      "text/plain": [
       "nome_item id_transacao  bebida  pizza  salada  sobremesa\n",
       "0             0x10000a     0.0    1.0     0.0        1.0\n",
       "1             0x100058     0.0    2.0     0.0        2.0\n",
       "2             0x1000c8     4.0    4.0     1.0        5.0\n",
       "3             0x10014c     0.0    1.0     0.0        1.0\n",
       "4             0x1001d8     3.0    3.0     0.0        3.0"
      ]
     },
     "execution_count": 16,
     "metadata": {},
     "output_type": "execute_result"
    }
   ],
   "source": [
    "# Visualiza os dados\n",
    "df_pivot.head()"
   ]
  },
  {
   "cell_type": "code",
   "execution_count": 17,
   "id": "79d629ec",
   "metadata": {},
   "outputs": [
    {
     "data": {
      "text/plain": [
       "nome_item\n",
       "id_transacao    100000\n",
       "bebida               6\n",
       "pizza                6\n",
       "salada               6\n",
       "sobremesa            5\n",
       "dtype: int64"
      ]
     },
     "execution_count": 17,
     "metadata": {},
     "output_type": "execute_result"
    }
   ],
   "source": [
    "# Valores únicos\n",
    "df_pivot.nunique()"
   ]
  },
  {
   "cell_type": "code",
   "execution_count": 18,
   "id": "44abcab3",
   "metadata": {},
   "outputs": [
    {
     "data": {
      "text/plain": [
       "(100000, 5)"
      ]
     },
     "execution_count": 18,
     "metadata": {},
     "output_type": "execute_result"
    }
   ],
   "source": [
    "# Shape\n",
    "df_pivot.shape"
   ]
  },
  {
   "cell_type": "code",
   "execution_count": 19,
   "id": "8c69a3e9",
   "metadata": {},
   "outputs": [
    {
     "data": {
      "text/html": [
       "<div>\n",
       "<style scoped>\n",
       "    .dataframe tbody tr th:only-of-type {\n",
       "        vertical-align: middle;\n",
       "    }\n",
       "\n",
       "    .dataframe tbody tr th {\n",
       "        vertical-align: top;\n",
       "    }\n",
       "\n",
       "    .dataframe thead th {\n",
       "        text-align: right;\n",
       "    }\n",
       "</style>\n",
       "<table border=\"1\" class=\"dataframe\">\n",
       "  <thead>\n",
       "    <tr style=\"text-align: right;\">\n",
       "      <th>nome_item</th>\n",
       "      <th>bebida</th>\n",
       "      <th>pizza</th>\n",
       "      <th>salada</th>\n",
       "      <th>sobremesa</th>\n",
       "    </tr>\n",
       "  </thead>\n",
       "  <tbody>\n",
       "    <tr>\n",
       "      <th>count</th>\n",
       "      <td>100000.000000</td>\n",
       "      <td>100000.000000</td>\n",
       "      <td>100000.000000</td>\n",
       "      <td>100000.000000</td>\n",
       "    </tr>\n",
       "    <tr>\n",
       "      <th>mean</th>\n",
       "      <td>1.239590</td>\n",
       "      <td>1.857840</td>\n",
       "      <td>0.711370</td>\n",
       "      <td>2.569210</td>\n",
       "    </tr>\n",
       "    <tr>\n",
       "      <th>std</th>\n",
       "      <td>1.627886</td>\n",
       "      <td>1.588589</td>\n",
       "      <td>1.086524</td>\n",
       "      <td>1.332084</td>\n",
       "    </tr>\n",
       "    <tr>\n",
       "      <th>min</th>\n",
       "      <td>0.000000</td>\n",
       "      <td>0.000000</td>\n",
       "      <td>0.000000</td>\n",
       "      <td>1.000000</td>\n",
       "    </tr>\n",
       "    <tr>\n",
       "      <th>25%</th>\n",
       "      <td>0.000000</td>\n",
       "      <td>1.000000</td>\n",
       "      <td>0.000000</td>\n",
       "      <td>1.000000</td>\n",
       "    </tr>\n",
       "    <tr>\n",
       "      <th>50%</th>\n",
       "      <td>0.000000</td>\n",
       "      <td>1.000000</td>\n",
       "      <td>0.000000</td>\n",
       "      <td>2.000000</td>\n",
       "    </tr>\n",
       "    <tr>\n",
       "      <th>75%</th>\n",
       "      <td>3.000000</td>\n",
       "      <td>3.000000</td>\n",
       "      <td>1.000000</td>\n",
       "      <td>4.000000</td>\n",
       "    </tr>\n",
       "    <tr>\n",
       "      <th>max</th>\n",
       "      <td>5.000000</td>\n",
       "      <td>5.000000</td>\n",
       "      <td>5.000000</td>\n",
       "      <td>5.000000</td>\n",
       "    </tr>\n",
       "  </tbody>\n",
       "</table>\n",
       "</div>"
      ],
      "text/plain": [
       "nome_item         bebida          pizza         salada      sobremesa\n",
       "count      100000.000000  100000.000000  100000.000000  100000.000000\n",
       "mean            1.239590       1.857840       0.711370       2.569210\n",
       "std             1.627886       1.588589       1.086524       1.332084\n",
       "min             0.000000       0.000000       0.000000       1.000000\n",
       "25%             0.000000       1.000000       0.000000       1.000000\n",
       "50%             0.000000       1.000000       0.000000       2.000000\n",
       "75%             3.000000       3.000000       1.000000       4.000000\n",
       "max             5.000000       5.000000       5.000000       5.000000"
      ]
     },
     "execution_count": 19,
     "metadata": {},
     "output_type": "execute_result"
    }
   ],
   "source": [
    "# Describe\n",
    "df_pivot.describe()"
   ]
  },
  {
   "cell_type": "code",
   "execution_count": 20,
   "id": "5852ff4c",
   "metadata": {},
   "outputs": [
    {
     "data": {
      "text/plain": [
       "nome_item\n",
       "id_transacao    0\n",
       "bebida          0\n",
       "pizza           0\n",
       "salada          0\n",
       "sobremesa       0\n",
       "dtype: int64"
      ]
     },
     "execution_count": 20,
     "metadata": {},
     "output_type": "execute_result"
    }
   ],
   "source": [
    "# não podemos ter valores nulos\n",
    "df_pivot.isnull().sum()"
   ]
  },
  {
   "cell_type": "code",
   "execution_count": 21,
   "id": "bf75d2bd",
   "metadata": {},
   "outputs": [],
   "source": [
    "# Inclui a coluna localidade e para fazer o merge precisamos de uma coluna em comum, nesse caso, id_transacao\n",
    "df_pivot2 = df_pivot.merge(df_food_delivery[['id_transacao', 'localidade']])"
   ]
  },
  {
   "cell_type": "code",
   "execution_count": 22,
   "id": "23356172",
   "metadata": {},
   "outputs": [
    {
     "data": {
      "text/html": [
       "<div>\n",
       "<style scoped>\n",
       "    .dataframe tbody tr th:only-of-type {\n",
       "        vertical-align: middle;\n",
       "    }\n",
       "\n",
       "    .dataframe tbody tr th {\n",
       "        vertical-align: top;\n",
       "    }\n",
       "\n",
       "    .dataframe thead th {\n",
       "        text-align: right;\n",
       "    }\n",
       "</style>\n",
       "<table border=\"1\" class=\"dataframe\">\n",
       "  <thead>\n",
       "    <tr style=\"text-align: right;\">\n",
       "      <th></th>\n",
       "      <th>id_transacao</th>\n",
       "      <th>bebida</th>\n",
       "      <th>pizza</th>\n",
       "      <th>salada</th>\n",
       "      <th>sobremesa</th>\n",
       "      <th>localidade</th>\n",
       "    </tr>\n",
       "  </thead>\n",
       "  <tbody>\n",
       "    <tr>\n",
       "      <th>0</th>\n",
       "      <td>0x10000a</td>\n",
       "      <td>0.0</td>\n",
       "      <td>1.0</td>\n",
       "      <td>0.0</td>\n",
       "      <td>1.0</td>\n",
       "      <td>9</td>\n",
       "    </tr>\n",
       "    <tr>\n",
       "      <th>1</th>\n",
       "      <td>0x10000a</td>\n",
       "      <td>0.0</td>\n",
       "      <td>1.0</td>\n",
       "      <td>0.0</td>\n",
       "      <td>1.0</td>\n",
       "      <td>9</td>\n",
       "    </tr>\n",
       "    <tr>\n",
       "      <th>2</th>\n",
       "      <td>0x100058</td>\n",
       "      <td>0.0</td>\n",
       "      <td>2.0</td>\n",
       "      <td>0.0</td>\n",
       "      <td>2.0</td>\n",
       "      <td>6</td>\n",
       "    </tr>\n",
       "    <tr>\n",
       "      <th>3</th>\n",
       "      <td>0x100058</td>\n",
       "      <td>0.0</td>\n",
       "      <td>2.0</td>\n",
       "      <td>0.0</td>\n",
       "      <td>2.0</td>\n",
       "      <td>6</td>\n",
       "    </tr>\n",
       "    <tr>\n",
       "      <th>4</th>\n",
       "      <td>0x1000c8</td>\n",
       "      <td>4.0</td>\n",
       "      <td>4.0</td>\n",
       "      <td>1.0</td>\n",
       "      <td>5.0</td>\n",
       "      <td>9</td>\n",
       "    </tr>\n",
       "  </tbody>\n",
       "</table>\n",
       "</div>"
      ],
      "text/plain": [
       "  id_transacao  bebida  pizza  salada  sobremesa  localidade\n",
       "0     0x10000a     0.0    1.0     0.0        1.0           9\n",
       "1     0x10000a     0.0    1.0     0.0        1.0           9\n",
       "2     0x100058     0.0    2.0     0.0        2.0           6\n",
       "3     0x100058     0.0    2.0     0.0        2.0           6\n",
       "4     0x1000c8     4.0    4.0     1.0        5.0           9"
      ]
     },
     "execution_count": 22,
     "metadata": {},
     "output_type": "execute_result"
    }
   ],
   "source": [
    "# Visualiza os dados\n",
    "df_pivot2.head()"
   ]
  },
  {
   "cell_type": "code",
   "execution_count": 23,
   "id": "42d11d7a",
   "metadata": {},
   "outputs": [
    {
     "data": {
      "text/plain": [
       "id_transacao    100000\n",
       "bebida               6\n",
       "pizza                6\n",
       "salada               6\n",
       "sobremesa            5\n",
       "localidade           9\n",
       "dtype: int64"
      ]
     },
     "execution_count": 23,
     "metadata": {},
     "output_type": "execute_result"
    }
   ],
   "source": [
    "# Shape\n",
    "df_pivot2.nunique()"
   ]
  },
  {
   "cell_type": "markdown",
   "id": "a516d5af",
   "metadata": {},
   "source": [
    "## Extraindo granularidade de tempo"
   ]
  },
  {
   "cell_type": "code",
   "execution_count": 24,
   "id": "9f8d499c",
   "metadata": {},
   "outputs": [
    {
     "data": {
      "text/html": [
       "<div>\n",
       "<style scoped>\n",
       "    .dataframe tbody tr th:only-of-type {\n",
       "        vertical-align: middle;\n",
       "    }\n",
       "\n",
       "    .dataframe tbody tr th {\n",
       "        vertical-align: top;\n",
       "    }\n",
       "\n",
       "    .dataframe thead th {\n",
       "        text-align: right;\n",
       "    }\n",
       "</style>\n",
       "<table border=\"1\" class=\"dataframe\">\n",
       "  <thead>\n",
       "    <tr style=\"text-align: right;\">\n",
       "      <th></th>\n",
       "      <th>id_transacao</th>\n",
       "      <th>horario_pedido</th>\n",
       "      <th>localidade</th>\n",
       "      <th>nome_item</th>\n",
       "      <th>quantidade_item</th>\n",
       "      <th>latitude</th>\n",
       "      <th>longitude</th>\n",
       "    </tr>\n",
       "  </thead>\n",
       "  <tbody>\n",
       "    <tr>\n",
       "      <th>0</th>\n",
       "      <td>0x7901ee</td>\n",
       "      <td>2019-01-16 18:33:00</td>\n",
       "      <td>7</td>\n",
       "      <td>bebida</td>\n",
       "      <td>2</td>\n",
       "      <td>41.794132</td>\n",
       "      <td>-88.010140</td>\n",
       "    </tr>\n",
       "    <tr>\n",
       "      <th>1</th>\n",
       "      <td>0x7901ee</td>\n",
       "      <td>2019-01-16 18:33:00</td>\n",
       "      <td>7</td>\n",
       "      <td>pizza</td>\n",
       "      <td>2</td>\n",
       "      <td>41.794132</td>\n",
       "      <td>-88.010140</td>\n",
       "    </tr>\n",
       "    <tr>\n",
       "      <th>2</th>\n",
       "      <td>0x7901ee</td>\n",
       "      <td>2019-01-16 18:33:00</td>\n",
       "      <td>7</td>\n",
       "      <td>sobremesa</td>\n",
       "      <td>2</td>\n",
       "      <td>41.794132</td>\n",
       "      <td>-88.010140</td>\n",
       "    </tr>\n",
       "    <tr>\n",
       "      <th>3</th>\n",
       "      <td>0x12b47f</td>\n",
       "      <td>2019-09-04 12:36:00</td>\n",
       "      <td>3</td>\n",
       "      <td>salada</td>\n",
       "      <td>1</td>\n",
       "      <td>41.884490</td>\n",
       "      <td>-87.627059</td>\n",
       "    </tr>\n",
       "    <tr>\n",
       "      <th>4</th>\n",
       "      <td>0x12b47f</td>\n",
       "      <td>2019-09-04 12:36:00</td>\n",
       "      <td>3</td>\n",
       "      <td>sobremesa</td>\n",
       "      <td>1</td>\n",
       "      <td>41.884490</td>\n",
       "      <td>-87.627059</td>\n",
       "    </tr>\n",
       "  </tbody>\n",
       "</table>\n",
       "</div>"
      ],
      "text/plain": [
       "  id_transacao       horario_pedido  localidade  nome_item  quantidade_item  \\\n",
       "0     0x7901ee  2019-01-16 18:33:00           7     bebida                2   \n",
       "1     0x7901ee  2019-01-16 18:33:00           7      pizza                2   \n",
       "2     0x7901ee  2019-01-16 18:33:00           7  sobremesa                2   \n",
       "3     0x12b47f  2019-09-04 12:36:00           3     salada                1   \n",
       "4     0x12b47f  2019-09-04 12:36:00           3  sobremesa                1   \n",
       "\n",
       "    latitude  longitude  \n",
       "0  41.794132 -88.010140  \n",
       "1  41.794132 -88.010140  \n",
       "2  41.794132 -88.010140  \n",
       "3  41.884490 -87.627059  \n",
       "4  41.884490 -87.627059  "
      ]
     },
     "execution_count": 24,
     "metadata": {},
     "output_type": "execute_result"
    }
   ],
   "source": [
    "# Visualiza os dados originais\n",
    "df_food_delivery.head()"
   ]
  },
  {
   "cell_type": "code",
   "execution_count": 25,
   "id": "9ee1e7f6",
   "metadata": {},
   "outputs": [],
   "source": [
    "# Lista para receber o total de pedidos\n",
    "total_pedidos = []"
   ]
  },
  {
   "cell_type": "code",
   "execution_count": 26,
   "id": "0b3904a3",
   "metadata": {},
   "outputs": [
    {
     "name": "stdout",
     "output_type": "stream",
     "text": [
      "\n",
      "Iniciando o agrupamento para o cálculo do total de pedidos. Seja paciente e aguarde...\n",
      "\n",
      "Agrupamento concluído!\n",
      "CPU times: total: 58.5 s\n",
      "Wall time: 58.9 s\n"
     ]
    }
   ],
   "source": [
    "%%time\n",
    "\n",
    "print(\"\\nIniciando o agrupamento para o cálculo do total de pedidos. Seja paciente e aguarde...\")\n",
    "\n",
    "# Extraímos cada id e cada grupo do 'group by' por id_transacao\n",
    "for k, group in df_food_delivery.groupby('id_transacao'):\n",
    "    \n",
    "    # Extraímos cada id e cada grupo do group by por horario_pedido\n",
    "    for m, n in group.groupby('horario_pedido'):\n",
    "        \n",
    "        # Extraímos cada item de cada grupo\n",
    "        id_transacao = k\n",
    "        horario_pedido = m\n",
    "        localidade = n['localidade'].values.tolist()[0]\n",
    "        bebida = 0\n",
    "        pizza = 0\n",
    "        sobremesa = 0\n",
    "        salada = 0\n",
    "        n = n.reset_index(drop = True)\n",
    "        \n",
    "        # E então contabilizamos os itens pedidos\n",
    "        for i in range(len(n)):\n",
    "            item = n.loc[i, 'nome_item']\n",
    "            num = n.loc[i, 'quantidade_item']\n",
    "            \n",
    "            if item == 'bebida':\n",
    "                bebida = bebida + num\n",
    "            \n",
    "            elif item == 'pizza':\n",
    "                pizza = pizza + num\n",
    "            \n",
    "            elif item == 'sobremesa':\n",
    "                sobremesa = sobremesa + num\n",
    "            \n",
    "            elif item == 'salada':\n",
    "                salada = salada + num\n",
    "        \n",
    "        output = [id_transacao, horario_pedido, localidade, bebida, pizza, sobremesa, salada]\n",
    "        total_pedidos.append(output)\n",
    "        \n",
    "print(\"\\nAgrupamento concluído!\")"
   ]
  },
  {
   "cell_type": "code",
   "execution_count": 27,
   "id": "ab54e532",
   "metadata": {},
   "outputs": [],
   "source": [
    "# Convertemos a lista para dataframe\n",
    "df_item_pedidos = pd.DataFrame(total_pedidos)"
   ]
  },
  {
   "cell_type": "code",
   "execution_count": 28,
   "id": "124aadd9",
   "metadata": {},
   "outputs": [],
   "source": [
    "# Ajustamos os nomes das colunas\n",
    "df_item_pedidos.columns = ['id_transacao', 'horario_pedido', 'localidade', 'bebida', 'pizza', 'sobremesa', 'salada']"
   ]
  },
  {
   "cell_type": "code",
   "execution_count": 29,
   "id": "1719af47",
   "metadata": {},
   "outputs": [
    {
     "data": {
      "text/plain": [
       "(100000, 7)"
      ]
     },
     "execution_count": 29,
     "metadata": {},
     "output_type": "execute_result"
    }
   ],
   "source": [
    "# Shape\n",
    "df_item_pedidos.shape"
   ]
  },
  {
   "cell_type": "code",
   "execution_count": 30,
   "id": "286d582e",
   "metadata": {},
   "outputs": [
    {
     "data": {
      "text/html": [
       "<div>\n",
       "<style scoped>\n",
       "    .dataframe tbody tr th:only-of-type {\n",
       "        vertical-align: middle;\n",
       "    }\n",
       "\n",
       "    .dataframe tbody tr th {\n",
       "        vertical-align: top;\n",
       "    }\n",
       "\n",
       "    .dataframe thead th {\n",
       "        text-align: right;\n",
       "    }\n",
       "</style>\n",
       "<table border=\"1\" class=\"dataframe\">\n",
       "  <thead>\n",
       "    <tr style=\"text-align: right;\">\n",
       "      <th></th>\n",
       "      <th>id_transacao</th>\n",
       "      <th>horario_pedido</th>\n",
       "      <th>localidade</th>\n",
       "      <th>nome_item</th>\n",
       "      <th>quantidade_item</th>\n",
       "      <th>latitude</th>\n",
       "      <th>longitude</th>\n",
       "    </tr>\n",
       "  </thead>\n",
       "  <tbody>\n",
       "    <tr>\n",
       "      <th>0</th>\n",
       "      <td>0x7901ee</td>\n",
       "      <td>2019-01-16 18:33:00</td>\n",
       "      <td>7</td>\n",
       "      <td>bebida</td>\n",
       "      <td>2</td>\n",
       "      <td>41.794132</td>\n",
       "      <td>-88.010140</td>\n",
       "    </tr>\n",
       "    <tr>\n",
       "      <th>1</th>\n",
       "      <td>0x7901ee</td>\n",
       "      <td>2019-01-16 18:33:00</td>\n",
       "      <td>7</td>\n",
       "      <td>pizza</td>\n",
       "      <td>2</td>\n",
       "      <td>41.794132</td>\n",
       "      <td>-88.010140</td>\n",
       "    </tr>\n",
       "    <tr>\n",
       "      <th>2</th>\n",
       "      <td>0x7901ee</td>\n",
       "      <td>2019-01-16 18:33:00</td>\n",
       "      <td>7</td>\n",
       "      <td>sobremesa</td>\n",
       "      <td>2</td>\n",
       "      <td>41.794132</td>\n",
       "      <td>-88.010140</td>\n",
       "    </tr>\n",
       "    <tr>\n",
       "      <th>3</th>\n",
       "      <td>0x12b47f</td>\n",
       "      <td>2019-09-04 12:36:00</td>\n",
       "      <td>3</td>\n",
       "      <td>salada</td>\n",
       "      <td>1</td>\n",
       "      <td>41.884490</td>\n",
       "      <td>-87.627059</td>\n",
       "    </tr>\n",
       "    <tr>\n",
       "      <th>4</th>\n",
       "      <td>0x12b47f</td>\n",
       "      <td>2019-09-04 12:36:00</td>\n",
       "      <td>3</td>\n",
       "      <td>sobremesa</td>\n",
       "      <td>1</td>\n",
       "      <td>41.884490</td>\n",
       "      <td>-87.627059</td>\n",
       "    </tr>\n",
       "  </tbody>\n",
       "</table>\n",
       "</div>"
      ],
      "text/plain": [
       "  id_transacao       horario_pedido  localidade  nome_item  quantidade_item  \\\n",
       "0     0x7901ee  2019-01-16 18:33:00           7     bebida                2   \n",
       "1     0x7901ee  2019-01-16 18:33:00           7      pizza                2   \n",
       "2     0x7901ee  2019-01-16 18:33:00           7  sobremesa                2   \n",
       "3     0x12b47f  2019-09-04 12:36:00           3     salada                1   \n",
       "4     0x12b47f  2019-09-04 12:36:00           3  sobremesa                1   \n",
       "\n",
       "    latitude  longitude  \n",
       "0  41.794132 -88.010140  \n",
       "1  41.794132 -88.010140  \n",
       "2  41.794132 -88.010140  \n",
       "3  41.884490 -87.627059  \n",
       "4  41.884490 -87.627059  "
      ]
     },
     "execution_count": 30,
     "metadata": {},
     "output_type": "execute_result"
    }
   ],
   "source": [
    "# Visualiza os dados originais\n",
    "df_food_delivery.head()"
   ]
  },
  {
   "cell_type": "markdown",
   "id": "a5d40e1b",
   "metadata": {},
   "source": [
    "### Extraindo Granularidade de Tempo\n"
   ]
  },
  {
   "cell_type": "code",
   "execution_count": 31,
   "id": "a9f2ea32",
   "metadata": {},
   "outputs": [
    {
     "data": {
      "text/html": [
       "<div>\n",
       "<style scoped>\n",
       "    .dataframe tbody tr th:only-of-type {\n",
       "        vertical-align: middle;\n",
       "    }\n",
       "\n",
       "    .dataframe tbody tr th {\n",
       "        vertical-align: top;\n",
       "    }\n",
       "\n",
       "    .dataframe thead th {\n",
       "        text-align: right;\n",
       "    }\n",
       "</style>\n",
       "<table border=\"1\" class=\"dataframe\">\n",
       "  <thead>\n",
       "    <tr style=\"text-align: right;\">\n",
       "      <th></th>\n",
       "      <th>id_transacao</th>\n",
       "      <th>horario_pedido</th>\n",
       "      <th>localidade</th>\n",
       "      <th>bebida</th>\n",
       "      <th>pizza</th>\n",
       "      <th>sobremesa</th>\n",
       "      <th>salada</th>\n",
       "    </tr>\n",
       "  </thead>\n",
       "  <tbody>\n",
       "    <tr>\n",
       "      <th>0</th>\n",
       "      <td>0x10000a</td>\n",
       "      <td>2019-01-29 00:48:00</td>\n",
       "      <td>9</td>\n",
       "      <td>0</td>\n",
       "      <td>1</td>\n",
       "      <td>1</td>\n",
       "      <td>0</td>\n",
       "    </tr>\n",
       "    <tr>\n",
       "      <th>1</th>\n",
       "      <td>0x100058</td>\n",
       "      <td>2019-05-05 00:08:00</td>\n",
       "      <td>6</td>\n",
       "      <td>0</td>\n",
       "      <td>2</td>\n",
       "      <td>2</td>\n",
       "      <td>0</td>\n",
       "    </tr>\n",
       "    <tr>\n",
       "      <th>2</th>\n",
       "      <td>0x1000c8</td>\n",
       "      <td>2019-01-28 19:24:00</td>\n",
       "      <td>9</td>\n",
       "      <td>4</td>\n",
       "      <td>4</td>\n",
       "      <td>5</td>\n",
       "      <td>1</td>\n",
       "    </tr>\n",
       "  </tbody>\n",
       "</table>\n",
       "</div>"
      ],
      "text/plain": [
       "  id_transacao       horario_pedido  localidade  bebida  pizza  sobremesa  \\\n",
       "0     0x10000a  2019-01-29 00:48:00           9       0      1          1   \n",
       "1     0x100058  2019-05-05 00:08:00           6       0      2          2   \n",
       "2     0x1000c8  2019-01-28 19:24:00           9       4      4          5   \n",
       "\n",
       "   salada  \n",
       "0       0  \n",
       "1       0  \n",
       "2       1  "
      ]
     },
     "execution_count": 31,
     "metadata": {},
     "output_type": "execute_result"
    }
   ],
   "source": [
    "# Visualiza os dados\n",
    "df_item_pedidos.head(3)"
   ]
  },
  {
   "cell_type": "code",
   "execution_count": 32,
   "id": "e4d3f0c3",
   "metadata": {},
   "outputs": [],
   "source": [
    "# Extraimos o mês da coluna horario_pedido e gramamos em uma nova coluna\n",
    "df_item_pedidos['mes'] = df_item_pedidos['horario_pedido'].apply(lambda x: time.strftime(\"%m\", time.strptime(x, \"%Y-%m-%d %H:%M:%S\")))"
   ]
  },
  {
   "cell_type": "code",
   "execution_count": 33,
   "id": "58c78e1c",
   "metadata": {},
   "outputs": [
    {
     "data": {
      "text/html": [
       "<div>\n",
       "<style scoped>\n",
       "    .dataframe tbody tr th:only-of-type {\n",
       "        vertical-align: middle;\n",
       "    }\n",
       "\n",
       "    .dataframe tbody tr th {\n",
       "        vertical-align: top;\n",
       "    }\n",
       "\n",
       "    .dataframe thead th {\n",
       "        text-align: right;\n",
       "    }\n",
       "</style>\n",
       "<table border=\"1\" class=\"dataframe\">\n",
       "  <thead>\n",
       "    <tr style=\"text-align: right;\">\n",
       "      <th></th>\n",
       "      <th>id_transacao</th>\n",
       "      <th>horario_pedido</th>\n",
       "      <th>localidade</th>\n",
       "      <th>bebida</th>\n",
       "      <th>pizza</th>\n",
       "      <th>sobremesa</th>\n",
       "      <th>salada</th>\n",
       "      <th>mes</th>\n",
       "    </tr>\n",
       "  </thead>\n",
       "  <tbody>\n",
       "    <tr>\n",
       "      <th>0</th>\n",
       "      <td>0x10000a</td>\n",
       "      <td>2019-01-29 00:48:00</td>\n",
       "      <td>9</td>\n",
       "      <td>0</td>\n",
       "      <td>1</td>\n",
       "      <td>1</td>\n",
       "      <td>0</td>\n",
       "      <td>01</td>\n",
       "    </tr>\n",
       "    <tr>\n",
       "      <th>1</th>\n",
       "      <td>0x100058</td>\n",
       "      <td>2019-05-05 00:08:00</td>\n",
       "      <td>6</td>\n",
       "      <td>0</td>\n",
       "      <td>2</td>\n",
       "      <td>2</td>\n",
       "      <td>0</td>\n",
       "      <td>05</td>\n",
       "    </tr>\n",
       "    <tr>\n",
       "      <th>2</th>\n",
       "      <td>0x1000c8</td>\n",
       "      <td>2019-01-28 19:24:00</td>\n",
       "      <td>9</td>\n",
       "      <td>4</td>\n",
       "      <td>4</td>\n",
       "      <td>5</td>\n",
       "      <td>1</td>\n",
       "      <td>01</td>\n",
       "    </tr>\n",
       "    <tr>\n",
       "      <th>3</th>\n",
       "      <td>0x10014c</td>\n",
       "      <td>2019-02-23 00:15:00</td>\n",
       "      <td>6</td>\n",
       "      <td>0</td>\n",
       "      <td>1</td>\n",
       "      <td>1</td>\n",
       "      <td>0</td>\n",
       "      <td>02</td>\n",
       "    </tr>\n",
       "    <tr>\n",
       "      <th>4</th>\n",
       "      <td>0x1001d8</td>\n",
       "      <td>2019-06-30 17:50:00</td>\n",
       "      <td>2</td>\n",
       "      <td>3</td>\n",
       "      <td>3</td>\n",
       "      <td>3</td>\n",
       "      <td>0</td>\n",
       "      <td>06</td>\n",
       "    </tr>\n",
       "    <tr>\n",
       "      <th>5</th>\n",
       "      <td>0x1002af</td>\n",
       "      <td>2019-12-28 17:25:00</td>\n",
       "      <td>9</td>\n",
       "      <td>3</td>\n",
       "      <td>3</td>\n",
       "      <td>4</td>\n",
       "      <td>1</td>\n",
       "      <td>12</td>\n",
       "    </tr>\n",
       "    <tr>\n",
       "      <th>6</th>\n",
       "      <td>0x10034c</td>\n",
       "      <td>2019-03-12 18:17:00</td>\n",
       "      <td>5</td>\n",
       "      <td>3</td>\n",
       "      <td>4</td>\n",
       "      <td>4</td>\n",
       "      <td>0</td>\n",
       "      <td>03</td>\n",
       "    </tr>\n",
       "    <tr>\n",
       "      <th>7</th>\n",
       "      <td>0x100378</td>\n",
       "      <td>2019-10-13 18:44:00</td>\n",
       "      <td>4</td>\n",
       "      <td>4</td>\n",
       "      <td>4</td>\n",
       "      <td>5</td>\n",
       "      <td>1</td>\n",
       "      <td>10</td>\n",
       "    </tr>\n",
       "    <tr>\n",
       "      <th>8</th>\n",
       "      <td>0x100391</td>\n",
       "      <td>2019-10-10 18:07:00</td>\n",
       "      <td>5</td>\n",
       "      <td>4</td>\n",
       "      <td>4</td>\n",
       "      <td>4</td>\n",
       "      <td>0</td>\n",
       "      <td>10</td>\n",
       "    </tr>\n",
       "    <tr>\n",
       "      <th>9</th>\n",
       "      <td>0x1003a9</td>\n",
       "      <td>2019-06-23 00:39:00</td>\n",
       "      <td>6</td>\n",
       "      <td>0</td>\n",
       "      <td>2</td>\n",
       "      <td>2</td>\n",
       "      <td>0</td>\n",
       "      <td>06</td>\n",
       "    </tr>\n",
       "  </tbody>\n",
       "</table>\n",
       "</div>"
      ],
      "text/plain": [
       "  id_transacao       horario_pedido  localidade  bebida  pizza  sobremesa  \\\n",
       "0     0x10000a  2019-01-29 00:48:00           9       0      1          1   \n",
       "1     0x100058  2019-05-05 00:08:00           6       0      2          2   \n",
       "2     0x1000c8  2019-01-28 19:24:00           9       4      4          5   \n",
       "3     0x10014c  2019-02-23 00:15:00           6       0      1          1   \n",
       "4     0x1001d8  2019-06-30 17:50:00           2       3      3          3   \n",
       "5     0x1002af  2019-12-28 17:25:00           9       3      3          4   \n",
       "6     0x10034c  2019-03-12 18:17:00           5       3      4          4   \n",
       "7     0x100378  2019-10-13 18:44:00           4       4      4          5   \n",
       "8     0x100391  2019-10-10 18:07:00           5       4      4          4   \n",
       "9     0x1003a9  2019-06-23 00:39:00           6       0      2          2   \n",
       "\n",
       "   salada mes  \n",
       "0       0  01  \n",
       "1       0  05  \n",
       "2       1  01  \n",
       "3       0  02  \n",
       "4       0  06  \n",
       "5       1  12  \n",
       "6       0  03  \n",
       "7       1  10  \n",
       "8       0  10  \n",
       "9       0  06  "
      ]
     },
     "execution_count": 33,
     "metadata": {},
     "output_type": "execute_result"
    }
   ],
   "source": [
    "# Visualiza o resultado\n",
    "df_item_pedidos.head(10)"
   ]
  },
  {
   "cell_type": "code",
   "execution_count": 34,
   "id": "9e3521f1",
   "metadata": {},
   "outputs": [],
   "source": [
    "# Incluir a coluna localidade e para fazer o morge precisamos de uma coluna em comum, nesse caso, id_transacao\n",
    "df_pivot = df_pivot.merge(df_item_pedidos[['id_transacao', 'mes']])"
   ]
  },
  {
   "cell_type": "code",
   "execution_count": 35,
   "id": "991f769b",
   "metadata": {},
   "outputs": [
    {
     "data": {
      "text/html": [
       "<div>\n",
       "<style scoped>\n",
       "    .dataframe tbody tr th:only-of-type {\n",
       "        vertical-align: middle;\n",
       "    }\n",
       "\n",
       "    .dataframe tbody tr th {\n",
       "        vertical-align: top;\n",
       "    }\n",
       "\n",
       "    .dataframe thead th {\n",
       "        text-align: right;\n",
       "    }\n",
       "</style>\n",
       "<table border=\"1\" class=\"dataframe\">\n",
       "  <thead>\n",
       "    <tr style=\"text-align: right;\">\n",
       "      <th></th>\n",
       "      <th>id_transacao</th>\n",
       "      <th>bebida</th>\n",
       "      <th>pizza</th>\n",
       "      <th>salada</th>\n",
       "      <th>sobremesa</th>\n",
       "      <th>mes</th>\n",
       "    </tr>\n",
       "  </thead>\n",
       "  <tbody>\n",
       "    <tr>\n",
       "      <th>0</th>\n",
       "      <td>0x10000a</td>\n",
       "      <td>0.0</td>\n",
       "      <td>1.0</td>\n",
       "      <td>0.0</td>\n",
       "      <td>1.0</td>\n",
       "      <td>01</td>\n",
       "    </tr>\n",
       "    <tr>\n",
       "      <th>1</th>\n",
       "      <td>0x100058</td>\n",
       "      <td>0.0</td>\n",
       "      <td>2.0</td>\n",
       "      <td>0.0</td>\n",
       "      <td>2.0</td>\n",
       "      <td>05</td>\n",
       "    </tr>\n",
       "    <tr>\n",
       "      <th>2</th>\n",
       "      <td>0x1000c8</td>\n",
       "      <td>4.0</td>\n",
       "      <td>4.0</td>\n",
       "      <td>1.0</td>\n",
       "      <td>5.0</td>\n",
       "      <td>01</td>\n",
       "    </tr>\n",
       "    <tr>\n",
       "      <th>3</th>\n",
       "      <td>0x10014c</td>\n",
       "      <td>0.0</td>\n",
       "      <td>1.0</td>\n",
       "      <td>0.0</td>\n",
       "      <td>1.0</td>\n",
       "      <td>02</td>\n",
       "    </tr>\n",
       "    <tr>\n",
       "      <th>4</th>\n",
       "      <td>0x1001d8</td>\n",
       "      <td>3.0</td>\n",
       "      <td>3.0</td>\n",
       "      <td>0.0</td>\n",
       "      <td>3.0</td>\n",
       "      <td>06</td>\n",
       "    </tr>\n",
       "    <tr>\n",
       "      <th>5</th>\n",
       "      <td>0x1002af</td>\n",
       "      <td>3.0</td>\n",
       "      <td>3.0</td>\n",
       "      <td>1.0</td>\n",
       "      <td>4.0</td>\n",
       "      <td>12</td>\n",
       "    </tr>\n",
       "    <tr>\n",
       "      <th>6</th>\n",
       "      <td>0x10034c</td>\n",
       "      <td>3.0</td>\n",
       "      <td>4.0</td>\n",
       "      <td>0.0</td>\n",
       "      <td>4.0</td>\n",
       "      <td>03</td>\n",
       "    </tr>\n",
       "    <tr>\n",
       "      <th>7</th>\n",
       "      <td>0x100378</td>\n",
       "      <td>4.0</td>\n",
       "      <td>4.0</td>\n",
       "      <td>1.0</td>\n",
       "      <td>5.0</td>\n",
       "      <td>10</td>\n",
       "    </tr>\n",
       "    <tr>\n",
       "      <th>8</th>\n",
       "      <td>0x100391</td>\n",
       "      <td>4.0</td>\n",
       "      <td>4.0</td>\n",
       "      <td>0.0</td>\n",
       "      <td>4.0</td>\n",
       "      <td>10</td>\n",
       "    </tr>\n",
       "    <tr>\n",
       "      <th>9</th>\n",
       "      <td>0x1003a9</td>\n",
       "      <td>0.0</td>\n",
       "      <td>2.0</td>\n",
       "      <td>0.0</td>\n",
       "      <td>2.0</td>\n",
       "      <td>06</td>\n",
       "    </tr>\n",
       "  </tbody>\n",
       "</table>\n",
       "</div>"
      ],
      "text/plain": [
       "  id_transacao  bebida  pizza  salada  sobremesa mes\n",
       "0     0x10000a     0.0    1.0     0.0        1.0  01\n",
       "1     0x100058     0.0    2.0     0.0        2.0  05\n",
       "2     0x1000c8     4.0    4.0     1.0        5.0  01\n",
       "3     0x10014c     0.0    1.0     0.0        1.0  02\n",
       "4     0x1001d8     3.0    3.0     0.0        3.0  06\n",
       "5     0x1002af     3.0    3.0     1.0        4.0  12\n",
       "6     0x10034c     3.0    4.0     0.0        4.0  03\n",
       "7     0x100378     4.0    4.0     1.0        5.0  10\n",
       "8     0x100391     4.0    4.0     0.0        4.0  10\n",
       "9     0x1003a9     0.0    2.0     0.0        2.0  06"
      ]
     },
     "execution_count": 35,
     "metadata": {},
     "output_type": "execute_result"
    }
   ],
   "source": [
    "df_pivot.head(10)"
   ]
  },
  {
   "cell_type": "code",
   "execution_count": 36,
   "id": "ccdde8a4",
   "metadata": {},
   "outputs": [
    {
     "data": {
      "text/plain": [
       "RangeIndex(start=0, stop=100000, step=1)"
      ]
     },
     "execution_count": 36,
     "metadata": {},
     "output_type": "execute_result"
    }
   ],
   "source": [
    "df_item_pedidos.index"
   ]
  },
  {
   "cell_type": "code",
   "execution_count": 37,
   "id": "ab590a44",
   "metadata": {},
   "outputs": [],
   "source": [
    "# fazemos o reset no indice e gravamos o resultado em outro df.\n",
    "df_item_pedidos_idx = df_item_pedidos.reset_index()"
   ]
  },
  {
   "cell_type": "code",
   "execution_count": 38,
   "id": "ec23ee4f",
   "metadata": {},
   "outputs": [
    {
     "data": {
      "text/html": [
       "<div>\n",
       "<style scoped>\n",
       "    .dataframe tbody tr th:only-of-type {\n",
       "        vertical-align: middle;\n",
       "    }\n",
       "\n",
       "    .dataframe tbody tr th {\n",
       "        vertical-align: top;\n",
       "    }\n",
       "\n",
       "    .dataframe thead th {\n",
       "        text-align: right;\n",
       "    }\n",
       "</style>\n",
       "<table border=\"1\" class=\"dataframe\">\n",
       "  <thead>\n",
       "    <tr style=\"text-align: right;\">\n",
       "      <th></th>\n",
       "      <th>index</th>\n",
       "      <th>id_transacao</th>\n",
       "      <th>horario_pedido</th>\n",
       "      <th>localidade</th>\n",
       "      <th>bebida</th>\n",
       "      <th>pizza</th>\n",
       "      <th>sobremesa</th>\n",
       "      <th>salada</th>\n",
       "      <th>mes</th>\n",
       "    </tr>\n",
       "  </thead>\n",
       "  <tbody>\n",
       "    <tr>\n",
       "      <th>0</th>\n",
       "      <td>0</td>\n",
       "      <td>0x10000a</td>\n",
       "      <td>2019-01-29 00:48:00</td>\n",
       "      <td>9</td>\n",
       "      <td>0</td>\n",
       "      <td>1</td>\n",
       "      <td>1</td>\n",
       "      <td>0</td>\n",
       "      <td>01</td>\n",
       "    </tr>\n",
       "    <tr>\n",
       "      <th>1</th>\n",
       "      <td>1</td>\n",
       "      <td>0x100058</td>\n",
       "      <td>2019-05-05 00:08:00</td>\n",
       "      <td>6</td>\n",
       "      <td>0</td>\n",
       "      <td>2</td>\n",
       "      <td>2</td>\n",
       "      <td>0</td>\n",
       "      <td>05</td>\n",
       "    </tr>\n",
       "    <tr>\n",
       "      <th>2</th>\n",
       "      <td>2</td>\n",
       "      <td>0x1000c8</td>\n",
       "      <td>2019-01-28 19:24:00</td>\n",
       "      <td>9</td>\n",
       "      <td>4</td>\n",
       "      <td>4</td>\n",
       "      <td>5</td>\n",
       "      <td>1</td>\n",
       "      <td>01</td>\n",
       "    </tr>\n",
       "    <tr>\n",
       "      <th>3</th>\n",
       "      <td>3</td>\n",
       "      <td>0x10014c</td>\n",
       "      <td>2019-02-23 00:15:00</td>\n",
       "      <td>6</td>\n",
       "      <td>0</td>\n",
       "      <td>1</td>\n",
       "      <td>1</td>\n",
       "      <td>0</td>\n",
       "      <td>02</td>\n",
       "    </tr>\n",
       "    <tr>\n",
       "      <th>4</th>\n",
       "      <td>4</td>\n",
       "      <td>0x1001d8</td>\n",
       "      <td>2019-06-30 17:50:00</td>\n",
       "      <td>2</td>\n",
       "      <td>3</td>\n",
       "      <td>3</td>\n",
       "      <td>3</td>\n",
       "      <td>0</td>\n",
       "      <td>06</td>\n",
       "    </tr>\n",
       "  </tbody>\n",
       "</table>\n",
       "</div>"
      ],
      "text/plain": [
       "   index id_transacao       horario_pedido  localidade  bebida  pizza  \\\n",
       "0      0     0x10000a  2019-01-29 00:48:00           9       0      1   \n",
       "1      1     0x100058  2019-05-05 00:08:00           6       0      2   \n",
       "2      2     0x1000c8  2019-01-28 19:24:00           9       4      4   \n",
       "3      3     0x10014c  2019-02-23 00:15:00           6       0      1   \n",
       "4      4     0x1001d8  2019-06-30 17:50:00           2       3      3   \n",
       "\n",
       "   sobremesa  salada mes  \n",
       "0          1       0  01  \n",
       "1          2       0  05  \n",
       "2          5       1  01  \n",
       "3          1       0  02  \n",
       "4          3       0  06  "
      ]
     },
     "execution_count": 38,
     "metadata": {},
     "output_type": "execute_result"
    }
   ],
   "source": [
    "# Resulta em uma coluna ID com um único valore para cada registro\n",
    "df_item_pedidos_idx.head()"
   ]
  },
  {
   "cell_type": "code",
   "execution_count": 39,
   "id": "1fc4751b",
   "metadata": {},
   "outputs": [
    {
     "data": {
      "text/html": [
       "<div>\n",
       "<style scoped>\n",
       "    .dataframe tbody tr th:only-of-type {\n",
       "        vertical-align: middle;\n",
       "    }\n",
       "\n",
       "    .dataframe tbody tr th {\n",
       "        vertical-align: top;\n",
       "    }\n",
       "\n",
       "    .dataframe thead th {\n",
       "        text-align: right;\n",
       "    }\n",
       "</style>\n",
       "<table border=\"1\" class=\"dataframe\">\n",
       "  <thead>\n",
       "    <tr style=\"text-align: right;\">\n",
       "      <th></th>\n",
       "      <th>id_transacao</th>\n",
       "      <th>horario_pedido</th>\n",
       "      <th>localidade</th>\n",
       "      <th>bebida</th>\n",
       "      <th>pizza</th>\n",
       "      <th>sobremesa</th>\n",
       "      <th>salada</th>\n",
       "      <th>mes</th>\n",
       "    </tr>\n",
       "  </thead>\n",
       "  <tbody>\n",
       "    <tr>\n",
       "      <th>0</th>\n",
       "      <td>0x10000a</td>\n",
       "      <td>2019-01-29 00:48:00</td>\n",
       "      <td>9</td>\n",
       "      <td>0</td>\n",
       "      <td>1</td>\n",
       "      <td>1</td>\n",
       "      <td>0</td>\n",
       "      <td>01</td>\n",
       "    </tr>\n",
       "    <tr>\n",
       "      <th>1</th>\n",
       "      <td>0x100058</td>\n",
       "      <td>2019-05-05 00:08:00</td>\n",
       "      <td>6</td>\n",
       "      <td>0</td>\n",
       "      <td>2</td>\n",
       "      <td>2</td>\n",
       "      <td>0</td>\n",
       "      <td>05</td>\n",
       "    </tr>\n",
       "    <tr>\n",
       "      <th>2</th>\n",
       "      <td>0x1000c8</td>\n",
       "      <td>2019-01-28 19:24:00</td>\n",
       "      <td>9</td>\n",
       "      <td>4</td>\n",
       "      <td>4</td>\n",
       "      <td>5</td>\n",
       "      <td>1</td>\n",
       "      <td>01</td>\n",
       "    </tr>\n",
       "    <tr>\n",
       "      <th>3</th>\n",
       "      <td>0x10014c</td>\n",
       "      <td>2019-02-23 00:15:00</td>\n",
       "      <td>6</td>\n",
       "      <td>0</td>\n",
       "      <td>1</td>\n",
       "      <td>1</td>\n",
       "      <td>0</td>\n",
       "      <td>02</td>\n",
       "    </tr>\n",
       "    <tr>\n",
       "      <th>4</th>\n",
       "      <td>0x1001d8</td>\n",
       "      <td>2019-06-30 17:50:00</td>\n",
       "      <td>2</td>\n",
       "      <td>3</td>\n",
       "      <td>3</td>\n",
       "      <td>3</td>\n",
       "      <td>0</td>\n",
       "      <td>06</td>\n",
       "    </tr>\n",
       "    <tr>\n",
       "      <th>...</th>\n",
       "      <td>...</td>\n",
       "      <td>...</td>\n",
       "      <td>...</td>\n",
       "      <td>...</td>\n",
       "      <td>...</td>\n",
       "      <td>...</td>\n",
       "      <td>...</td>\n",
       "      <td>...</td>\n",
       "    </tr>\n",
       "    <tr>\n",
       "      <th>99995</th>\n",
       "      <td>0xffe96</td>\n",
       "      <td>2019-01-05 19:28:00</td>\n",
       "      <td>4</td>\n",
       "      <td>4</td>\n",
       "      <td>4</td>\n",
       "      <td>4</td>\n",
       "      <td>0</td>\n",
       "      <td>01</td>\n",
       "    </tr>\n",
       "    <tr>\n",
       "      <th>99996</th>\n",
       "      <td>0xffeed</td>\n",
       "      <td>2019-08-08 00:42:00</td>\n",
       "      <td>2</td>\n",
       "      <td>0</td>\n",
       "      <td>1</td>\n",
       "      <td>1</td>\n",
       "      <td>0</td>\n",
       "      <td>08</td>\n",
       "    </tr>\n",
       "    <tr>\n",
       "      <th>99997</th>\n",
       "      <td>0xfff07</td>\n",
       "      <td>2019-05-04 00:48:00</td>\n",
       "      <td>2</td>\n",
       "      <td>1</td>\n",
       "      <td>1</td>\n",
       "      <td>1</td>\n",
       "      <td>0</td>\n",
       "      <td>05</td>\n",
       "    </tr>\n",
       "    <tr>\n",
       "      <th>99998</th>\n",
       "      <td>0xfff4d</td>\n",
       "      <td>2019-07-18 00:17:00</td>\n",
       "      <td>3</td>\n",
       "      <td>0</td>\n",
       "      <td>2</td>\n",
       "      <td>2</td>\n",
       "      <td>0</td>\n",
       "      <td>07</td>\n",
       "    </tr>\n",
       "    <tr>\n",
       "      <th>99999</th>\n",
       "      <td>0xfffb8</td>\n",
       "      <td>2019-11-07 00:05:00</td>\n",
       "      <td>2</td>\n",
       "      <td>0</td>\n",
       "      <td>1</td>\n",
       "      <td>1</td>\n",
       "      <td>0</td>\n",
       "      <td>11</td>\n",
       "    </tr>\n",
       "  </tbody>\n",
       "</table>\n",
       "<p>100000 rows × 8 columns</p>\n",
       "</div>"
      ],
      "text/plain": [
       "      id_transacao       horario_pedido  localidade  bebida  pizza  sobremesa  \\\n",
       "0         0x10000a  2019-01-29 00:48:00           9       0      1          1   \n",
       "1         0x100058  2019-05-05 00:08:00           6       0      2          2   \n",
       "2         0x1000c8  2019-01-28 19:24:00           9       4      4          5   \n",
       "3         0x10014c  2019-02-23 00:15:00           6       0      1          1   \n",
       "4         0x1001d8  2019-06-30 17:50:00           2       3      3          3   \n",
       "...            ...                  ...         ...     ...    ...        ...   \n",
       "99995      0xffe96  2019-01-05 19:28:00           4       4      4          4   \n",
       "99996      0xffeed  2019-08-08 00:42:00           2       0      1          1   \n",
       "99997      0xfff07  2019-05-04 00:48:00           2       1      1          1   \n",
       "99998      0xfff4d  2019-07-18 00:17:00           3       0      2          2   \n",
       "99999      0xfffb8  2019-11-07 00:05:00           2       0      1          1   \n",
       "\n",
       "       salada mes  \n",
       "0           0  01  \n",
       "1           0  05  \n",
       "2           1  01  \n",
       "3           0  02  \n",
       "4           0  06  \n",
       "...       ...  ..  \n",
       "99995       0  01  \n",
       "99996       0  08  \n",
       "99997       0  05  \n",
       "99998       0  07  \n",
       "99999       0  11  \n",
       "\n",
       "[100000 rows x 8 columns]"
      ]
     },
     "execution_count": 39,
     "metadata": {},
     "output_type": "execute_result"
    }
   ],
   "source": [
    "df_item_pedidos"
   ]
  },
  {
   "cell_type": "markdown",
   "id": "1571e75c",
   "metadata": {},
   "source": [
    "# Análise descritiva"
   ]
  },
  {
   "cell_type": "markdown",
   "id": "6c8768af",
   "metadata": {},
   "source": [
    "### distplot dos atributos usados para segmentação"
   ]
  },
  {
   "cell_type": "code",
   "execution_count": 40,
   "id": "86362a3f",
   "metadata": {},
   "outputs": [],
   "source": [
    "import warnings\n",
    "warnings.filterwarnings('ignore')"
   ]
  },
  {
   "cell_type": "code",
   "execution_count": 41,
   "id": "4265099d",
   "metadata": {},
   "outputs": [
    {
     "data": {
      "image/png": "[encoded data removed]",
      "text/plain": [
       "<Figure size 1080x432 with 5 Axes>"
      ]
     },
     "metadata": {
      "needs_background": "light"
     },
     "output_type": "display_data"
    }
   ],
   "source": [
    "# Plot\n",
    "\n",
    "# tamanho da figura\n",
    "plt.figure(1, figsize = (15, 6))\n",
    "\n",
    "# inicia o contador\n",
    "n = 0\n",
    "\n",
    "# Loop pelas colunas\n",
    "for x in ['pizza', 'sobremesa', 'salada', 'bebida', 'localidade']:\n",
    "    n += 1\n",
    "    plt.subplot(1, 5, n)\n",
    "    plt.subplots_adjust(hspace = 0.5, wspace = 0.5)\n",
    "    sns.distplot(df_item_pedidos[x], bins = 20)\n",
    "    plt.title('Distplot de {}'.format(x))\n",
    "plt.show()   \n"
   ]
  },
  {
   "cell_type": "markdown",
   "id": "31879066",
   "metadata": {},
   "source": [
    "### Gráfico de Total de Pedidos Por Localidade"
   ]
  },
  {
   "cell_type": "code",
   "execution_count": 42,
   "id": "f7136bd1",
   "metadata": {},
   "outputs": [
    {
     "data": {
      "image/png": "[encoded data removed]",
      "text/plain": [
       "<Figure size 1080x360 with 1 Axes>"
      ]
     },
     "metadata": {
      "needs_background": "light"
     },
     "output_type": "display_data"
    }
   ],
   "source": [
    "# Plot\n",
    "plt.figure(1 , figsize = (15 , 5))\n",
    "sns.countplot(y = 'localidade' , data = df_item_pedidos)\n",
    "plt.show()"
   ]
  },
  {
   "cell_type": "markdown",
   "id": "64ed75a8",
   "metadata": {},
   "source": [
    "### Regplot dos Atributos Usados Para Segmentação"
   ]
  },
  {
   "cell_type": "code",
   "execution_count": 43,
   "id": "196cba5e",
   "metadata": {},
   "outputs": [
    {
     "data": {
      "image/png": "[encoded data removed]",
      "text/plain": [
       "<Figure size 1080x504 with 16 Axes>"
      ]
     },
     "metadata": {
      "needs_background": "light"
     },
     "output_type": "display_data"
    }
   ],
   "source": [
    "# Relação Entre os Atributos\n",
    "\n",
    "# Tamanho da figura\n",
    "plt.figure(1 , figsize = (15 , 7))\n",
    "\n",
    "# Inicializa o contador\n",
    "n = 0 \n",
    "\n",
    "# Loop pelos atributos\n",
    "for x in ['pizza' , 'sobremesa' , 'salada', 'bebida']:\n",
    "    for y in ['pizza' , 'sobremesa' , 'salada', 'bebida']:\n",
    "        n += 1\n",
    "        plt.subplot(4 , 4 , n)\n",
    "        plt.subplots_adjust(hspace = 0.5 , wspace = 0.5)\n",
    "        sns.regplot(x = x , y = y , data = df_item_pedidos)\n",
    "        plt.ylabel(y)\n",
    "plt.show()"
   ]
  },
  {
   "cell_type": "markdown",
   "id": "a38b8eff",
   "metadata": {},
   "source": [
    "### Definindo as Variáveis Para Segmentação"
   ]
  },
  {
   "cell_type": "markdown",
   "id": "57bf5be6",
   "metadata": {},
   "source": [
    "Vamos remover id_transacao, horario_pedido, localidade e mes para nossas primeiras atividades de clusterização."
   ]
  },
  {
   "cell_type": "code",
   "execution_count": 44,
   "id": "299af9b0",
   "metadata": {},
   "outputs": [
    {
     "data": {
      "text/html": [
       "<div>\n",
       "<style scoped>\n",
       "    .dataframe tbody tr th:only-of-type {\n",
       "        vertical-align: middle;\n",
       "    }\n",
       "\n",
       "    .dataframe tbody tr th {\n",
       "        vertical-align: top;\n",
       "    }\n",
       "\n",
       "    .dataframe thead th {\n",
       "        text-align: right;\n",
       "    }\n",
       "</style>\n",
       "<table border=\"1\" class=\"dataframe\">\n",
       "  <thead>\n",
       "    <tr style=\"text-align: right;\">\n",
       "      <th></th>\n",
       "      <th>index</th>\n",
       "      <th>bebida</th>\n",
       "      <th>pizza</th>\n",
       "      <th>sobremesa</th>\n",
       "      <th>salada</th>\n",
       "    </tr>\n",
       "  </thead>\n",
       "  <tbody>\n",
       "    <tr>\n",
       "      <th>0</th>\n",
       "      <td>0</td>\n",
       "      <td>0</td>\n",
       "      <td>1</td>\n",
       "      <td>1</td>\n",
       "      <td>0</td>\n",
       "    </tr>\n",
       "    <tr>\n",
       "      <th>1</th>\n",
       "      <td>1</td>\n",
       "      <td>0</td>\n",
       "      <td>2</td>\n",
       "      <td>2</td>\n",
       "      <td>0</td>\n",
       "    </tr>\n",
       "    <tr>\n",
       "      <th>2</th>\n",
       "      <td>2</td>\n",
       "      <td>4</td>\n",
       "      <td>4</td>\n",
       "      <td>5</td>\n",
       "      <td>1</td>\n",
       "    </tr>\n",
       "    <tr>\n",
       "      <th>3</th>\n",
       "      <td>3</td>\n",
       "      <td>0</td>\n",
       "      <td>1</td>\n",
       "      <td>1</td>\n",
       "      <td>0</td>\n",
       "    </tr>\n",
       "    <tr>\n",
       "      <th>4</th>\n",
       "      <td>4</td>\n",
       "      <td>3</td>\n",
       "      <td>3</td>\n",
       "      <td>3</td>\n",
       "      <td>0</td>\n",
       "    </tr>\n",
       "    <tr>\n",
       "      <th>...</th>\n",
       "      <td>...</td>\n",
       "      <td>...</td>\n",
       "      <td>...</td>\n",
       "      <td>...</td>\n",
       "      <td>...</td>\n",
       "    </tr>\n",
       "    <tr>\n",
       "      <th>99995</th>\n",
       "      <td>99995</td>\n",
       "      <td>4</td>\n",
       "      <td>4</td>\n",
       "      <td>4</td>\n",
       "      <td>0</td>\n",
       "    </tr>\n",
       "    <tr>\n",
       "      <th>99996</th>\n",
       "      <td>99996</td>\n",
       "      <td>0</td>\n",
       "      <td>1</td>\n",
       "      <td>1</td>\n",
       "      <td>0</td>\n",
       "    </tr>\n",
       "    <tr>\n",
       "      <th>99997</th>\n",
       "      <td>99997</td>\n",
       "      <td>1</td>\n",
       "      <td>1</td>\n",
       "      <td>1</td>\n",
       "      <td>0</td>\n",
       "    </tr>\n",
       "    <tr>\n",
       "      <th>99998</th>\n",
       "      <td>99998</td>\n",
       "      <td>0</td>\n",
       "      <td>2</td>\n",
       "      <td>2</td>\n",
       "      <td>0</td>\n",
       "    </tr>\n",
       "    <tr>\n",
       "      <th>99999</th>\n",
       "      <td>99999</td>\n",
       "      <td>0</td>\n",
       "      <td>1</td>\n",
       "      <td>1</td>\n",
       "      <td>0</td>\n",
       "    </tr>\n",
       "  </tbody>\n",
       "</table>\n",
       "<p>100000 rows × 5 columns</p>\n",
       "</div>"
      ],
      "text/plain": [
       "       index  bebida  pizza  sobremesa  salada\n",
       "0          0       0      1          1       0\n",
       "1          1       0      2          2       0\n",
       "2          2       4      4          5       1\n",
       "3          3       0      1          1       0\n",
       "4          4       3      3          3       0\n",
       "...      ...     ...    ...        ...     ...\n",
       "99995  99995       4      4          4       0\n",
       "99996  99996       0      1          1       0\n",
       "99997  99997       1      1          1       0\n",
       "99998  99998       0      2          2       0\n",
       "99999  99999       0      1          1       0\n",
       "\n",
       "[100000 rows x 5 columns]"
      ]
     },
     "execution_count": 44,
     "metadata": {},
     "output_type": "execute_result"
    }
   ],
   "source": [
    "# Filtrando o dataframe por colunas\n",
    "df_item_pedidos_idx[['index', 'bebida', 'pizza', 'sobremesa', 'salada']]"
   ]
  },
  {
   "cell_type": "code",
   "execution_count": 45,
   "id": "bce72d60",
   "metadata": {},
   "outputs": [],
   "source": [
    "# Vamos gerar um novo dataframe com o slice anterior\n",
    "df = df_item_pedidos_idx[['index', 'bebida', 'pizza', 'sobremesa', 'salada']]"
   ]
  },
  {
   "cell_type": "code",
   "execution_count": 46,
   "id": "636799d3",
   "metadata": {},
   "outputs": [
    {
     "data": {
      "text/html": [
       "<div>\n",
       "<style scoped>\n",
       "    .dataframe tbody tr th:only-of-type {\n",
       "        vertical-align: middle;\n",
       "    }\n",
       "\n",
       "    .dataframe tbody tr th {\n",
       "        vertical-align: top;\n",
       "    }\n",
       "\n",
       "    .dataframe thead th {\n",
       "        text-align: right;\n",
       "    }\n",
       "</style>\n",
       "<table border=\"1\" class=\"dataframe\">\n",
       "  <thead>\n",
       "    <tr style=\"text-align: right;\">\n",
       "      <th></th>\n",
       "      <th>index</th>\n",
       "      <th>bebida</th>\n",
       "      <th>pizza</th>\n",
       "      <th>sobremesa</th>\n",
       "      <th>salada</th>\n",
       "    </tr>\n",
       "  </thead>\n",
       "  <tbody>\n",
       "    <tr>\n",
       "      <th>0</th>\n",
       "      <td>0</td>\n",
       "      <td>0</td>\n",
       "      <td>1</td>\n",
       "      <td>1</td>\n",
       "      <td>0</td>\n",
       "    </tr>\n",
       "    <tr>\n",
       "      <th>1</th>\n",
       "      <td>1</td>\n",
       "      <td>0</td>\n",
       "      <td>2</td>\n",
       "      <td>2</td>\n",
       "      <td>0</td>\n",
       "    </tr>\n",
       "    <tr>\n",
       "      <th>2</th>\n",
       "      <td>2</td>\n",
       "      <td>4</td>\n",
       "      <td>4</td>\n",
       "      <td>5</td>\n",
       "      <td>1</td>\n",
       "    </tr>\n",
       "    <tr>\n",
       "      <th>3</th>\n",
       "      <td>3</td>\n",
       "      <td>0</td>\n",
       "      <td>1</td>\n",
       "      <td>1</td>\n",
       "      <td>0</td>\n",
       "    </tr>\n",
       "    <tr>\n",
       "      <th>4</th>\n",
       "      <td>4</td>\n",
       "      <td>3</td>\n",
       "      <td>3</td>\n",
       "      <td>3</td>\n",
       "      <td>0</td>\n",
       "    </tr>\n",
       "  </tbody>\n",
       "</table>\n",
       "</div>"
      ],
      "text/plain": [
       "   index  bebida  pizza  sobremesa  salada\n",
       "0      0       0      1          1       0\n",
       "1      1       0      2          2       0\n",
       "2      2       4      4          5       1\n",
       "3      3       0      1          1       0\n",
       "4      4       3      3          3       0"
      ]
     },
     "execution_count": 46,
     "metadata": {},
     "output_type": "execute_result"
    }
   ],
   "source": [
    "df.head()"
   ]
  },
  {
   "cell_type": "markdown",
   "id": "7dce3238",
   "metadata": {},
   "source": [
    "## Segmentação 1\n",
    "- usando 2 variáveis (Pizza e sobremesa)"
   ]
  },
  {
   "cell_type": "code",
   "execution_count": 47,
   "id": "37e42c46",
   "metadata": {},
   "outputs": [],
   "source": [
    "# Usando duas variáveis\n",
    "X1 = df[['pizza', 'sobremesa']].iloc[: , :].values"
   ]
  },
  {
   "cell_type": "code",
   "execution_count": 48,
   "id": "c862c08f",
   "metadata": {},
   "outputs": [],
   "source": [
    "# Lista do WCSS\n",
    "wcss_X1 = []"
   ]
  },
  {
   "cell_type": "markdown",
   "id": "dd48eb14",
   "metadata": {},
   "source": [
    "Muitas vezes, os dados com os quais você trabalha têm várias dimensões, dificultando a visualização. Como consequência, o número ideal de clusters não é muito óbvio. Felizmente, temos uma maneira de determinar isso matematicamente.\n",
    "\n",
    "- Representamos graficamente a relação entre o número de clusters e a soma dos quadrados dentro do cluster (Within Cluster Sum of Squares - WCSS) e, em seguida, selecionamos o número de clusters nos quais a mudança no WCSS começa a se estabilizar (Método Elbow)."
   ]
  },
  {
   "cell_type": "markdown",
   "id": "554f68cf",
   "metadata": {},
   "source": [
    "#### Segmentação 1 - Encontrando o Valor Ideal de Clusters\n",
    "\n",
    "- Vamos testar diferentes valores de K (valores de cluster) entre 2 e 10.\n",
    "\n",
    "- Para a inicialização dos clusters, usamos o algoritmo k-means++ que oferece convergência mais rápida para o resultado final.\n",
    "\n",
    "https://scikit-learn.org/stable/modules/generated/sklearn.cluster.KMeans.html"
   ]
  },
  {
   "cell_type": "code",
   "execution_count": 49,
   "id": "5ae1d037",
   "metadata": {},
   "outputs": [],
   "source": [
    "# Loop para testar os valore de K\n",
    "for n in range(2, 11):\n",
    "    modelo = (KMeans(n_clusters = n,\n",
    "                     init = 'k-means++',\n",
    "                     n_init = 10,\n",
    "                     max_iter = 300,\n",
    "                     tol = 0.0001,\n",
    "                     random_state = 111,\n",
    "                     algorithm = 'elkan'                   \n",
    "                        ))\n",
    "    modelo.fit(X1)\n",
    "    wcss_X1.append(modelo.inertia_)"
   ]
  },
  {
   "cell_type": "code",
   "execution_count": 50,
   "id": "90d0acb7",
   "metadata": {},
   "outputs": [
    {
     "data": {
      "image/png": "[encoded data removed]",
      "text/plain": [
       "<Figure size 1080x432 with 1 Axes>"
      ]
     },
     "metadata": {
      "needs_background": "light"
     },
     "output_type": "display_data"
    }
   ],
   "source": [
    "# Plot\n",
    "plt.figure(1, figsize = (15, 6))\n",
    "plt.plot(np.arange(2, 11), wcss_X1 , 'o')\n",
    "plt.plot(np.arange(2, 11), wcss_X1, '-', alpha= 0.5)\n",
    "plt.xlabel('numero de clusters'), plt.ylabel('WCSS')\n",
    "plt.show()"
   ]
  },
  {
   "cell_type": "markdown",
   "id": "7a4ce8c9",
   "metadata": {},
   "source": [
    "Escolhemos o valor ideal de clusters e criamos o modelo final para a Segmentação 1. Observe no gráfico acima que não há certo ou errado. Poderíamos trabalhar com qualquer valor entre 2 e 10 (não faz sentido criar apenas 1 cluster).\n",
    "\n",
    "O gráfico acima é chamado de Curva de Elbow e normalmente usamos o valor com o menor WCSS. Mas isso deve ser alinhado com as necessidade de negócio. Para esse exemplo, não faria sentido usar 10 clusters. Vamos começar com 2 clusters e avaliar e interpretar os resultados."
   ]
  },
  {
   "cell_type": "markdown",
   "id": "9624b517",
   "metadata": {},
   "source": [
    "Vamos criar o modelo com 4 clusters."
   ]
  },
  {
   "cell_type": "markdown",
   "id": "1028a7d4",
   "metadata": {},
   "source": [
    "#### Segmentação 1 - Construindo e Treinando o Modelo\n"
   ]
  },
  {
   "cell_type": "code",
   "execution_count": 61,
   "id": "bb58051f",
   "metadata": {},
   "outputs": [],
   "source": [
    "# Criação do modelo\n",
    "modelo_seg1 = KMeans(n_clusters = 2,\n",
    "                    init = 'k-means++',\n",
    "                    n_init = 10,\n",
    "                    max_iter = 300,\n",
    "                    tol = 0.0001,\n",
    "                    random_state = 111,\n",
    "                    algorithm = 'elkan')"
   ]
  },
  {
   "cell_type": "code",
   "execution_count": 62,
   "id": "7e403c82",
   "metadata": {},
   "outputs": [
    {
     "data": {
      "text/html": [
       "<style>#sk-container-id-1 {color: black;background-color: white;}#sk-container-id-1 pre{padding: 0;}#sk-container-id-1 div.sk-toggleable {background-color: white;}#sk-container-id-1 label.sk-toggleable__label {cursor: pointer;display: block;width: 100%;margin-bottom: 0;padding: 0.3em;box-sizing: border-box;text-align: center;}#sk-container-id-1 label.sk-toggleable__label-arrow:before {content: \"▸\";float: left;margin-right: 0.25em;color: #696969;}#sk-container-id-1 label.sk-toggleable__label-arrow:hover:before {color: black;}#sk-container-id-1 div.sk-estimator:hover label.sk-toggleable__label-arrow:before {color: black;}#sk-container-id-1 div.sk-toggleable__content {max-height: 0;max-width: 0;overflow: hidden;text-align: left;background-color: #f0f8ff;}#sk-container-id-1 div.sk-toggleable__content pre {margin: 0.2em;color: black;border-radius: 0.25em;background-color: #f0f8ff;}#sk-container-id-1 input.sk-toggleable__control:checked~div.sk-toggleable__content {max-height: 200px;max-width: 100%;overflow: auto;}#sk-container-id-1 input.sk-toggleable__control:checked~label.sk-toggleable__label-arrow:before {content: \"▾\";}#sk-container-id-1 div.sk-estimator input.sk-toggleable__control:checked~label.sk-toggleable__label {background-color: #d4ebff;}#sk-container-id-1 div.sk-label input.sk-toggleable__control:checked~label.sk-toggleable__label {background-color: #d4ebff;}#sk-container-id-1 input.sk-hidden--visually {border: 0;clip: rect(1px 1px 1px 1px);clip: rect(1px, 1px, 1px, 1px);height: 1px;margin: -1px;overflow: hidden;padding: 0;position: absolute;width: 1px;}#sk-container-id-1 div.sk-estimator {font-family: monospace;background-color: #f0f8ff;border: 1px dotted black;border-radius: 0.25em;box-sizing: border-box;margin-bottom: 0.5em;}#sk-container-id-1 div.sk-estimator:hover {background-color: #d4ebff;}#sk-container-id-1 div.sk-parallel-item::after {content: \"\";width: 100%;border-bottom: 1px solid gray;flex-grow: 1;}#sk-container-id-1 div.sk-label:hover label.sk-toggleable__label {background-color: #d4ebff;}#sk-container-id-1 div.sk-serial::before {content: \"\";position: absolute;border-left: 1px solid gray;box-sizing: border-box;top: 0;bottom: 0;left: 50%;z-index: 0;}#sk-container-id-1 div.sk-serial {display: flex;flex-direction: column;align-items: center;background-color: white;padding-right: 0.2em;padding-left: 0.2em;position: relative;}#sk-container-id-1 div.sk-item {position: relative;z-index: 1;}#sk-container-id-1 div.sk-parallel {display: flex;align-items: stretch;justify-content: center;background-color: white;position: relative;}#sk-container-id-1 div.sk-item::before, #sk-container-id-1 div.sk-parallel-item::before {content: \"\";position: absolute;border-left: 1px solid gray;box-sizing: border-box;top: 0;bottom: 0;left: 50%;z-index: -1;}#sk-container-id-1 div.sk-parallel-item {display: flex;flex-direction: column;z-index: 1;position: relative;background-color: white;}#sk-container-id-1 div.sk-parallel-item:first-child::after {align-self: flex-end;width: 50%;}#sk-container-id-1 div.sk-parallel-item:last-child::after {align-self: flex-start;width: 50%;}#sk-container-id-1 div.sk-parallel-item:only-child::after {width: 0;}#sk-container-id-1 div.sk-dashed-wrapped {border: 1px dashed gray;margin: 0 0.4em 0.5em 0.4em;box-sizing: border-box;padding-bottom: 0.4em;background-color: white;}#sk-container-id-1 div.sk-label label {font-family: monospace;font-weight: bold;display: inline-block;line-height: 1.2em;}#sk-container-id-1 div.sk-label-container {text-align: center;}#sk-container-id-1 div.sk-container {/* jupyter's `normalize.less` sets `[hidden] { display: none; }` but bootstrap.min.css set `[hidden] { display: none !important; }` so we also need the `!important` here to be able to override the default hidden behavior on the sphinx rendered scikit-learn.org. See: https://github.com/scikit-learn/scikit-learn/issues/21755 */display: inline-block !important;position: relative;}#sk-container-id-1 div.sk-text-repr-fallback {display: none;}</style><div id=\"sk-container-id-1\" class=\"sk-top-container\"><div class=\"sk-text-repr-fallback\"><pre>KMeans(algorithm=&#x27;elkan&#x27;, n_clusters=2, random_state=111)</pre><b>In a Jupyter environment, please rerun this cell to show the HTML representation or trust the notebook. <br />On GitHub, the HTML representation is unable to render, please try loading this page with nbviewer.org.</b></div><div class=\"sk-container\" hidden><div class=\"sk-item\"><div class=\"sk-estimator sk-toggleable\"><input class=\"sk-toggleable__control sk-hidden--visually\" id=\"sk-estimator-id-1\" type=\"checkbox\" checked><label for=\"sk-estimator-id-1\" class=\"sk-toggleable__label sk-toggleable__label-arrow\">KMeans</label><div class=\"sk-toggleable__content\"><pre>KMeans(algorithm=&#x27;elkan&#x27;, n_clusters=2, random_state=111)</pre></div></div></div></div></div>"
      ],
      "text/plain": [
       "KMeans(algorithm='elkan', n_clusters=2, random_state=111)"
      ]
     },
     "execution_count": 62,
     "metadata": {},
     "output_type": "execute_result"
    }
   ],
   "source": [
    "# Treinamento do modelo\n",
    "modelo_seg1.fit(X1)"
   ]
  },
  {
   "cell_type": "code",
   "execution_count": 63,
   "id": "567c8063",
   "metadata": {},
   "outputs": [
    {
     "data": {
      "text/plain": [
       "array([0, 0, 1, ..., 0, 0, 0])"
      ]
     },
     "execution_count": 63,
     "metadata": {},
     "output_type": "execute_result"
    }
   ],
   "source": [
    "# Extração dos labels\n",
    "labels1 = modelo_seg1.labels_\n",
    "labels1"
   ]
  },
  {
   "cell_type": "code",
   "execution_count": 65,
   "id": "cc66e382",
   "metadata": {},
   "outputs": [
    {
     "data": {
      "text/plain": [
       "array([[0.881644  , 1.82183485],\n",
       "       [3.79958153, 4.05580631]])"
      ]
     },
     "execution_count": 65,
     "metadata": {},
     "output_type": "execute_result"
    }
   ],
   "source": [
    "# Extração dos centróides\n",
    "centroids1 = modelo_seg1.cluster_centers_\n",
    "centroids1"
   ]
  },
  {
   "cell_type": "markdown",
   "id": "580d3c39",
   "metadata": {},
   "source": [
    "#### Segmentação 1 - Visualização e Interpretação dos Segmentos"
   ]
  },
  {
   "cell_type": "code",
   "execution_count": 66,
   "id": "e8ec6162",
   "metadata": {},
   "outputs": [
    {
     "data": {
      "image/png": "[encoded data removed]",
      "text/plain": [
       "<Figure size 1080x504 with 1 Axes>"
      ]
     },
     "metadata": {
      "needs_background": "light"
     },
     "output_type": "display_data"
    }
   ],
   "source": [
    "# Plot\n",
    "\n",
    "# Parâmetros do Meshgrid\n",
    "h = 0.02\n",
    "x_min, x_max = X1[:, 0].min() - 1, X1[:, 0].max() + 1\n",
    "y_min, y_max = X1[:, 1].min() - 1, X1[:, 1].max() + 1\n",
    "xx, yy = np.meshgrid(np.arange(x_min, x_max, h), np.arange(y_min, y_max, h))\n",
    "Z = modelo_seg1.predict(np.c_[xx.ravel(), yy.ravel()]) \n",
    "plt.figure(1 , figsize = (15, 7) )\n",
    "plt.clf()\n",
    "Z = Z.reshape(xx.shape)\n",
    "\n",
    "# Plot da imagem\n",
    "plt.imshow(Z, \n",
    "           interpolation = 'nearest', \n",
    "           extent = (xx.min(), xx.max(), yy.min(), yy.max()),\n",
    "           cmap = plt.cm.Set2, \n",
    "           aspect = 'auto', \n",
    "           origin = 'lower')\n",
    "\n",
    "# Plot dos pontos de dados\n",
    "plt.scatter( x = 'pizza', y = 'sobremesa', data = df, c = labels1, s = 200 )\n",
    "plt.scatter(x = centroids1[: , 0], y =  centroids1[: , 1], s = 300, c = 'red', alpha = 0.5)\n",
    "plt.xlabel('Pizza')\n",
    "plt.ylabel('Sobremesa')\n",
    "plt.show()"
   ]
  },
  {
   "cell_type": "markdown",
   "id": "286982f1",
   "metadata": {},
   "source": [
    "**Interpretação**: \n",
    "\n",
    "- O ponto vermelho é o centróide de cada cluster (segmento).\n",
    "\n",
    "\n",
    "- No cluster 1 (área em verde) temos os clientes que pediram 0, 1 ou 2 Pizzas. Em todos os casos houve pedido de Sobremesa.\n",
    "\n",
    "\n",
    "- No cluster 2 (área em cinza) estão clientes que pediram 2, 3, 4 ou 5 Pizzas. Perceba que à medida que o pedido tem maior número de Pizzas, também aumenta o número de Sobremesas."
   ]
  }
 ],
 "metadata": {
  "kernelspec": {
   "display_name": "Python 3 (ipykernel)",
   "language": "python",
   "name": "python3"
  },
  "language_info": {
   "codemirror_mode": {
    "name": "ipython",
    "version": 3
   },
   "file_extension": ".py",
   "mimetype": "text/x-python",
   "name": "python",
   "nbconvert_exporter": "python",
   "pygments_lexer": "ipython3",
   "version": "3.9.12"
  }
 },
 "nbformat": 4,
 "nbformat_minor": 5
}
